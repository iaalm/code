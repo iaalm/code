{
 "cells": [
  {
   "cell_type": "code",
   "execution_count": 6,
   "metadata": {
    "collapsed": false
   },
   "outputs": [
    {
     "name": "stdout",
     "output_type": "stream",
     "text": [
      "Populating the interactive namespace from numpy and matplotlib\n"
     ]
    },
    {
     "name": "stderr",
     "output_type": "stream",
     "text": [
      "WARNING: pylab import has clobbered these variables: ['f']\n",
      "`%matplotlib` prevents importing * from pylab and numpy\n"
     ]
    }
   ],
   "source": [
    "%pylab inline"
   ]
  },
  {
   "cell_type": "code",
   "execution_count": 7,
   "metadata": {
    "collapsed": false
   },
   "outputs": [],
   "source": [
    "def fp(data,w,act):\n",
    "     return act(data.dot(w))\n",
    "    \n",
    "def sigmoid(inX): \n",
    "    return 1.0/(1+exp(-inX)) \n",
    "\n",
    "def ReLU(inX):\n",
    "    return min(0,inX)"
   ]
  },
  {
   "cell_type": "code",
   "execution_count": 4,
   "metadata": {
    "collapsed": false
   },
   "outputs": [],
   "source": [
    " def genImage(pWidth = 320,pHeight = 320,nHidden = 8,nNetwork = 16):\n",
    "    N_COLOR = 3\n",
    "    N_INPUT = 3  #x,y,bias\n",
    "\n",
    "\n",
    "    #init model\n",
    "    model = [None] * (nHidden + 1)\n",
    "    model[0] = random.rand(N_INPUT,nNetwork) * 2 - 1\n",
    "    for i in range(1,nHidden):\n",
    "        model[i] = random.rand(nNetwork+1,nNetwork) * 2 - 1\n",
    "\n",
    "    model[nHidden] = random.rand(nNetwork+1,N_COLOR) * 2 - 1\n",
    "\n",
    "    #fp\n",
    "    img = zeros((pHeight,pWidth,3))\n",
    "    for i in range(pWidth):\n",
    "        for j in range(pHeight):\n",
    "            data = array([i/pWidth,j/pHeight,1])\n",
    "            for k in range(nHidden):\n",
    "                data = append(fp(data,model[k],tanh),[1])\n",
    "            data = fp(data,model[nHidden],sigmoid)\n",
    "            img[j,i] = data\n",
    "\n",
    "    return img"
   ]
  },
  {
   "cell_type": "markdown",
   "metadata": {},
   "source": [
    "###批量计算数倍性能提升"
   ]
  },
  {
   "cell_type": "code",
   "execution_count": 8,
   "metadata": {
    "collapsed": true
   },
   "outputs": [],
   "source": [
    " def genImage(pWidth = 320,pHeight = 320,nHidden = 8,nNetwork = 16):\n",
    "    N_COLOR = 3\n",
    "    N_INPUT = 3  #x,y,bias\n",
    "\n",
    "\n",
    "    #init model\n",
    "    model = [None] * (nHidden + 1)\n",
    "    model[0] = random.rand(N_INPUT,nNetwork) * 2 - 1\n",
    "    for i in range(1,nHidden):\n",
    "        model[i] = random.rand(nNetwork+1,nNetwork) * 2 - 1\n",
    "\n",
    "    model[nHidden] = random.rand(nNetwork+1,N_COLOR) * 2 - 1\n",
    "\n",
    "    #fp\n",
    "    img = zeros((pHeight,pWidth,3))\n",
    "    data = array([[i/pHeight,j/pWidth,1] for i in range(pHeight) for j in range(pWidth) ])\n",
    "    for k in range(nHidden):\n",
    "        data = hstack((fp(data,model[k],tanh),array([[1]]*pWidth*pHeight)))\n",
    "    data = fp(data,model[nHidden],sigmoid)\n",
    "    img = data.reshape(pHeight,pWidth,N_COLOR)\n",
    "\n",
    "    return img"
   ]
  },
  {
   "cell_type": "code",
   "execution_count": null,
   "metadata": {
    "collapsed": false
   },
   "outputs": [],
   "source": [
    "%%time\n",
    "fig, axes = plt.subplots(4, 8, #figsize=(5,5),\n",
    "                         subplot_kw={'xticks': [], 'yticks': []})\n",
    "\n",
    "#fig.subplots_adjust(hspace=0.3, wspace=0.05)\n",
    "for ax in axes.reshape(-1):\n",
    "    ax.imshow(genImage(128,128))"
   ]
  },
  {
   "cell_type": "code",
   "execution_count": null,
   "metadata": {
    "collapsed": false,
    "scrolled": true
   },
   "outputs": [],
   "source": [
    "from time import localtime,strftime\n",
    "w = 2560\n",
    "h = 1600\n",
    "for _ in range(200):\n",
    "    img = genImage(w,h)\n",
    "    t = strftime('%Y%m%d.%H%M%S',localtime())\n",
    "    imsave('netart_pic/'+t +'.%dx%d.png'% (w,h),img)"
   ]
  },
  {
   "cell_type": "markdown",
   "metadata": {},
   "source": [
    "####参数对结果的影响"
   ]
  },
  {
   "cell_type": "code",
   "execution_count": null,
   "metadata": {
    "collapsed": false
   },
   "outputs": [],
   "source": [
    "from time import clock\n",
    "\n",
    "with open('netart_pic/params/clock.txt','a') as f:\n",
    "    print('nNetwork nLayer count time(s)', file=f)\n",
    "    #for i in range(1,128):\n",
    "    for i in range(128,129):\n",
    "        for j in range(1,32):\n",
    "            for k in range(8):\n",
    "                t = clock()\n",
    "                img = genImage(320,320,j,i)\n",
    "                t = clock() - t\n",
    "                print('%d %d %d %f' % (i,j,k,t),file=f)\n",
    "                f.flush()\n",
    "                imsave('netart_pic/params/%dx%d-%d.png'% (i,j,k),img)"
   ]
  },
  {
   "cell_type": "markdown",
   "metadata": {},
   "source": [
    "####性能比较"
   ]
  },
  {
   "cell_type": "code",
   "execution_count": 46,
   "metadata": {
    "collapsed": false
   },
   "outputs": [
    {
     "name": "stdout",
     "output_type": "stream",
     "text": [
      "Wall time: 4min 8s\n"
     ]
    }
   ],
   "source": [
    "%%time\n",
    "from time import localtime,strftime\n",
    "w = 1600\n",
    "h = 900\n",
    "\n",
    "img = genImage(w,h)\n",
    "t = strftime('%Y%m%d.%H%M%S',localtime())\n",
    "imsave('netart_pic/'+t +'.%dx%d.png'% (w,h),img)"
   ]
  },
  {
   "cell_type": "code",
   "execution_count": 49,
   "metadata": {
    "collapsed": false
   },
   "outputs": [
    {
     "name": "stdout",
     "output_type": "stream",
     "text": [
      "Wall time: 4min 6s\n"
     ]
    }
   ],
   "source": [
    "%%time\n",
    "from time import localtime,strftime\n",
    "w = 1600\n",
    "h = 900\n",
    "\n",
    "img = genImage_c(w,h)\n",
    "t = strftime('%Y%m%d.%H%M%S',localtime())\n",
    "imsave('netart_pic/'+t +'.%dx%d.png'% (w,h),img)"
   ]
  },
  {
   "cell_type": "markdown",
   "metadata": {},
   "source": [
    "####Cpython的方法并不能有效的提高性能"
   ]
  },
  {
   "cell_type": "code",
   "execution_count": 47,
   "metadata": {
    "collapsed": false,
    "scrolled": true
   },
   "outputs": [],
   "source": [
    "%load_ext Cython"
   ]
  },
  {
   "cell_type": "code",
   "execution_count": 48,
   "metadata": {
    "collapsed": false
   },
   "outputs": [],
   "source": [
    "%%cython\n",
    "from decimal import Decimal\n",
    "from numpy import exp\n",
    "def fp(data,w,act):\n",
    "     return act(data.dot(w))\n",
    "    \n",
    "def sigmoid(inX): \n",
    "    return 1.0/(1+exp(-inX)) \n",
    "\n",
    "def ReLU(inX):\n",
    "    return min(0,inX)\n",
    "from numpy import array\n",
    "import random\n",
    "import numpy as np\n",
    "zeros = np.zeros\n",
    "append = np.append\n",
    "tanh = np.tanh\n",
    "def genImage_c(pWidth = 64,pHeight = 64,nHidden = 8,nNetwork = 16):\n",
    "    N_COLOR = 3\n",
    "    N_INPUT = 3  #x,y,bias\n",
    "\n",
    "\n",
    "    #init model\n",
    "    model = [None] * (nHidden + 1)\n",
    "    model[0] = np.random.rand(N_INPUT,nNetwork) * 2 - 1\n",
    "    for i in range(1,nHidden):\n",
    "        model[i] = np.random.rand(nNetwork+1,nNetwork) * 2 - 1\n",
    "\n",
    "    model[nHidden] = np.random.rand(nNetwork+1,N_COLOR) * 2 - 1\n",
    "\n",
    "    #fp\n",
    "    img = zeros((pWidth,pHeight,3))\n",
    "    for i in range(pWidth):\n",
    "        for j in range(pHeight):\n",
    "            data = array([i/pWidth,j/pHeight,1])\n",
    "            for k in range(nHidden):\n",
    "                data = append(fp(data,model[k],tanh),[1])\n",
    "            data = fp(data,model[nHidden],sigmoid)\n",
    "            img[i,j] = data\n",
    "\n",
    "    return img"
   ]
  },
  {
   "cell_type": "code",
   "execution_count": 143,
   "metadata": {
    "collapsed": false
   },
   "outputs": [
    {
     "data": {
      "text/plain": [
       "['__call__',\n",
       " '__class__',\n",
       " '__delattr__',\n",
       " '__dir__',\n",
       " '__doc__',\n",
       " '__eq__',\n",
       " '__format__',\n",
       " '__ge__',\n",
       " '__getattribute__',\n",
       " '__gt__',\n",
       " '__hash__',\n",
       " '__init__',\n",
       " '__le__',\n",
       " '__lt__',\n",
       " '__module__',\n",
       " '__name__',\n",
       " '__ne__',\n",
       " '__new__',\n",
       " '__qualname__',\n",
       " '__reduce__',\n",
       " '__reduce_ex__',\n",
       " '__repr__',\n",
       " '__self__',\n",
       " '__setattr__',\n",
       " '__sizeof__',\n",
       " '__str__',\n",
       " '__subclasshook__',\n",
       " '__text_signature__']"
      ]
     },
     "execution_count": 143,
     "metadata": {},
     "output_type": "execute_result"
    }
   ],
   "source": [
    "dir(random.rand)"
   ]
  }
 ],
 "metadata": {
  "kernelspec": {
   "display_name": "Python 3",
   "language": "python",
   "name": "python3"
  }
 },
 "nbformat": 4,
 "nbformat_minor": 0
}
